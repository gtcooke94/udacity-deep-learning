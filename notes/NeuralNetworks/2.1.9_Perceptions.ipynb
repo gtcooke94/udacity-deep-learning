{
 "cells": [
  {
   "cell_type": "markdown",
   "metadata": {},
   "source": [
    "# 2.1.9 Perceptrons as Logical Operators"
   ]
  },
  {
   "cell_type": "markdown",
   "metadata": {},
   "source": [
    "### AND "
   ]
  },
  {
   "cell_type": "code",
   "execution_count": 63,
   "metadata": {
    "scrolled": true
   },
   "outputs": [
    {
     "name": "stdout",
     "output_type": "stream",
     "text": [
      "Nice!  You got it all correct.\n",
      "\n",
      " Input 1    Input 2    Linear Combination    Activation Output   Is Correct\n",
      "       0          0                  -0.9                    0          Yes\n",
      "       0          1                  -0.1                    0          Yes\n",
      "       1          0                  -0.1                    0          Yes\n",
      "       1          1                   0.7                    1          Yes\n"
     ]
    }
   ],
   "source": [
    "import pandas as pd\n",
    "\n",
    "# TODO: Set weight1, weight2, and bias\n",
    "weight1 = .8\n",
    "weight2 = .8\n",
    "bias = -0.9\n",
    "\n",
    "\n",
    "# DON'T CHANGE ANYTHING BELOW\n",
    "# Inputs and outputs\n",
    "test_inputs = [(0, 0), (0, 1), (1, 0), (1, 1)]\n",
    "correct_outputs = [False, False, False, True]\n",
    "outputs = []\n",
    "\n",
    "# Generate and check output\n",
    "for test_input, correct_output in zip(test_inputs, correct_outputs):\n",
    "    linear_combination = weight1 * test_input[0] + weight2 * test_input[1] + bias\n",
    "    output = int(linear_combination >= 0)\n",
    "    is_correct_string = 'Yes' if output == correct_output else 'No'\n",
    "    outputs.append([test_input[0], test_input[1], linear_combination, output, is_correct_string])\n",
    "\n",
    "# Print output\n",
    "num_wrong = len([output[4] for output in outputs if output[4] == 'No'])\n",
    "output_frame = pd.DataFrame(outputs, columns=['Input 1', '  Input 2', '  Linear Combination', '  Activation Output', '  Is Correct'])\n",
    "if not num_wrong:\n",
    "    print('Nice!  You got it all correct.\\n')\n",
    "else:\n",
    "    print('You got {} wrong.  Keep trying!\\n'.format(num_wrong))\n",
    "print(output_frame.to_string(index=False))"
   ]
  },
  {
   "cell_type": "markdown",
   "metadata": {},
   "source": [
    "## OR"
   ]
  },
  {
   "cell_type": "code",
   "execution_count": null,
   "metadata": {},
   "outputs": [],
   "source": []
  },
  {
   "cell_type": "markdown",
   "metadata": {},
   "source": [
    "## Experimenting with Weights and Biases"
   ]
  },
  {
   "cell_type": "markdown",
   "metadata": {},
   "source": [
    "We can see from the graph below that, for example, a bias of -0.7 gets us OR, and a bias of -0.9 gets us AND."
   ]
  },
  {
   "cell_type": "code",
   "execution_count": 68,
   "metadata": {},
   "outputs": [
    {
     "data": {
      "image/png": "[encoded data removed]",
      "text/plain": [
       "<Figure size 432x288 with 1 Axes>"
      ]
     },
     "metadata": {
      "needs_background": "light"
     },
     "output_type": "display_data"
    }
   ],
   "source": [
    "import matplotlib.pyplot as plt\n",
    "import numpy as np\n",
    "def x2(x1, w1, w2, b):\n",
    "    return (-w1 * x1 - b) / w2\n",
    "x1s = np.linspace(-10, 10, 50)\n",
    "x2s = x2(x1s, weight1, weight2, bias)\n",
    "x3s = x2(x1s, weight1, weight2, -1.1)\n",
    "x4s = x2(x1s, weight1, weight2, .1)\n",
    "x5s = x2(x1s, weight1, weight2, -0.7)\n",
    "x6s = x2(x1s, weight1, weight2, .4)\n",
    "\n",
    "plt.plot(x1s, x2s, color='b')\n",
    "plt.plot(x1s, x3s, color='r')\n",
    "plt.plot(x1s, x4s, color='g')\n",
    "plt.plot(x1s, x5s, color='y')\n",
    "plt.plot(x1s, x6s, color='k')\n",
    "plt.ylim([0, 4])\n",
    "plt.xlim([0, 4])\n",
    "plt.scatter([1], [1])\n",
    "plt.scatter([0], [0])\n",
    "plt.title(\"Experimenting wit Bias Changes\")\n",
    "plt.legend([bias, -1.1, .1, -0.7, 0.4])\n",
    "plt.show()"
   ]
  },
  {
   "cell_type": "code",
   "execution_count": null,
   "metadata": {},
   "outputs": [],
   "source": []
  },
  {
   "cell_type": "code",
   "execution_count": 26,
   "metadata": {},
   "outputs": [
    {
     "data": {
      "text/plain": [
       "array([-1.        , -0.93877551, -0.87755102, -0.81632653, -0.75510204,\n",
       "       -0.69387755, -0.63265306, -0.57142857, -0.51020408, -0.44897959,\n",
       "       -0.3877551 , -0.32653061, -0.26530612, -0.20408163, -0.14285714,\n",
       "       -0.08163265, -0.02040816,  0.04081633,  0.10204082,  0.16326531,\n",
       "        0.2244898 ,  0.28571429,  0.34693878,  0.40816327,  0.46938776,\n",
       "        0.53061224,  0.59183673,  0.65306122,  0.71428571,  0.7755102 ,\n",
       "        0.83673469,  0.89795918,  0.95918367,  1.02040816,  1.08163265,\n",
       "        1.14285714,  1.20408163,  1.26530612,  1.32653061,  1.3877551 ,\n",
       "        1.44897959,  1.51020408,  1.57142857,  1.63265306,  1.69387755,\n",
       "        1.75510204,  1.81632653,  1.87755102,  1.93877551,  2.        ])"
      ]
     },
     "execution_count": 26,
     "metadata": {},
     "output_type": "execute_result"
    }
   ],
   "source": [
    "x1s"
   ]
  },
  {
   "cell_type": "code",
   "execution_count": 15,
   "metadata": {},
   "outputs": [
    {
     "data": {
      "text/plain": [
       "array([3.        , 2.93877551, 2.87755102, 2.81632653, 2.75510204,\n",
       "       2.69387755, 2.63265306, 2.57142857, 2.51020408, 2.44897959,\n",
       "       2.3877551 , 2.32653061, 2.26530612, 2.20408163, 2.14285714,\n",
       "       2.08163265, 2.02040816, 1.95918367, 1.89795918, 1.83673469,\n",
       "       1.7755102 , 1.71428571, 1.65306122, 1.59183673, 1.53061224,\n",
       "       1.46938776, 1.40816327, 1.34693878, 1.28571429, 1.2244898 ,\n",
       "       1.16326531, 1.10204082, 1.04081633, 0.97959184, 0.91836735,\n",
       "       0.85714286, 0.79591837, 0.73469388, 0.67346939, 0.6122449 ,\n",
       "       0.55102041, 0.48979592, 0.42857143, 0.36734694, 0.30612245,\n",
       "       0.24489796, 0.18367347, 0.12244898, 0.06122449, 0.        ])"
      ]
     },
     "execution_count": 15,
     "metadata": {},
     "output_type": "execute_result"
    }
   ],
   "source": [
    "x2(x1s, weight1, weight2, bias)"
   ]
  },
  {
   "cell_type": "code",
   "execution_count": 29,
   "metadata": {},
   "outputs": [
    {
     "data": {
      "text/plain": [
       "array([5.        , 4.93877551, 4.87755102, 4.81632653, 4.75510204,\n",
       "       4.69387755, 4.63265306, 4.57142857, 4.51020408, 4.44897959,\n",
       "       4.3877551 , 4.32653061, 4.26530612, 4.20408163, 4.14285714,\n",
       "       4.08163265, 4.02040816, 3.95918367, 3.89795918, 3.83673469,\n",
       "       3.7755102 , 3.71428571, 3.65306122, 3.59183673, 3.53061224,\n",
       "       3.46938776, 3.40816327, 3.34693878, 3.28571429, 3.2244898 ,\n",
       "       3.16326531, 3.10204082, 3.04081633, 2.97959184, 2.91836735,\n",
       "       2.85714286, 2.79591837, 2.73469388, 2.67346939, 2.6122449 ,\n",
       "       2.55102041, 2.48979592, 2.42857143, 2.36734694, 2.30612245,\n",
       "       2.24489796, 2.18367347, 2.12244898, 2.06122449, 2.        ])"
      ]
     },
     "execution_count": 29,
     "metadata": {},
     "output_type": "execute_result"
    }
   ],
   "source": [
    "x3s"
   ]
  },
  {
   "cell_type": "code",
   "execution_count": null,
   "metadata": {},
   "outputs": [],
   "source": []
  }
 ],
 "metadata": {
  "kernelspec": {
   "display_name": "udacity_DL",
   "language": "python",
   "name": "udacity_dl"
  },
  "language_info": {
   "codemirror_mode": {
    "name": "ipython",
    "version": 3
   },
   "file_extension": ".py",
   "mimetype": "text/x-python",
   "name": "python",
   "nbconvert_exporter": "python",
   "pygments_lexer": "ipython3",
   "version": "3.7.2"
  },
  "varInspector": {
   "cols": {
    "lenName": 16,
    "lenType": 16,
    "lenVar": 40
   },
   "kernels_config": {
    "python": {
     "delete_cmd_postfix": "",
     "delete_cmd_prefix": "del ",
     "library": "var_list.py",
     "varRefreshCmd": "print(var_dic_list())"
    },
    "r": {
     "delete_cmd_postfix": ") ",
     "delete_cmd_prefix": "rm(",
     "library": "var_list.r",
     "varRefreshCmd": "cat(var_dic_list()) "
    }
   },
   "types_to_exclude": [
    "module",
    "function",
    "builtin_function_or_method",
    "instance",
    "_Feature"
   ],
   "window_display": false
  }
 },
 "nbformat": 4,
 "nbformat_minor": 2
}
